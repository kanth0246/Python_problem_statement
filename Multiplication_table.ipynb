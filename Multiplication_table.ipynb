{
 "cells": [
  {
   "cell_type": "code",
   "execution_count": 1,
   "metadata": {},
   "outputs": [
    {
     "name": "stdout",
     "output_type": "stream",
     "text": [
      "The entered the number is 4.\n",
      "Entered range is:  range(0, 9)\n",
      "4 x 1 = 4\n",
      "4 x 2 = 8\n",
      "4 x 3 = 12\n",
      "4 x 4 = 16\n",
      "4 x 5 = 20\n",
      "4 x 6 = 24\n",
      "4 x 7 = 28\n",
      "4 x 8 = 32\n",
      "4 x 9 = 36\n",
      "The entered numbers are 5 and 7.\n",
      "5 x 1 = 5 , 7 x 1 = 7\n",
      "5 x 2 = 10 , 7 x 2 = 14\n",
      "5 x 3 = 15 , 7 x 3 = 21\n",
      "5 x 4 = 20 , 7 x 4 = 28\n",
      "5 x 5 = 25 , 7 x 5 = 35\n",
      "5 x 6 = 30 , 7 x 6 = 42\n",
      "5 x 7 = 35 , 7 x 7 = 49\n",
      "5 x 8 = 40 , 7 x 8 = 56\n",
      "5 x 9 = 45 , 7 x 9 = 63\n",
      "5 x 10 = 50 , 7 x 10 = 70\n"
     ]
    }
   ],
   "source": [
    "number = int(input('Enter a number:'))\n",
    "r= int(input(\"Enter the range:\"))\n",
    "range(r)\n",
    "print(f'The entered the number is {number}.')\n",
    "print(\"Entered range is: \", range(r))\n",
    "i = 1\n",
    "while i<=r:\n",
    "    print(('%d x %d = %d' %(number, i, number*i)))\n",
    "    i+=1\n",
    "\n",
    "number1 = int(input('Enter a number:'))\n",
    "number2 = int(input('Enter a number:'))\n",
    "print(f'The entered numbers are {number1} and {number2}.')\n",
    "\n",
    "i = 1\n",
    "while i<=10:\n",
    "    print(('%d x %d = %d' %(number1, i, number1*i)), ',', ('%d x %d = %d' %(number2, i, number2*i )))\n",
    "    i+=1    "
   ]
  }
 ],
 "metadata": {
  "kernelspec": {
   "display_name": "Python 3",
   "language": "python",
   "name": "python3"
  },
  "language_info": {
   "codemirror_mode": {
    "name": "ipython",
    "version": 3
   },
   "file_extension": ".py",
   "mimetype": "text/x-python",
   "name": "python",
   "nbconvert_exporter": "python",
   "pygments_lexer": "ipython3",
   "version": "3.12.5"
  }
 },
 "nbformat": 4,
 "nbformat_minor": 2
}
