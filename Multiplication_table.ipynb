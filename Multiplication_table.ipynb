{
 "cells": [
  {
   "cell_type": "code",
   "execution_count": 4,
   "metadata": {},
   "outputs": [
    {
     "name": "stdout",
     "output_type": "stream",
     "text": [
      "The entered the number is 3.\n",
      "3 x 1 = 3\n",
      "3 x 2 = 6\n",
      "3 x 3 = 9\n",
      "3 x 4 = 12\n",
      "3 x 5 = 15\n",
      "3 x 6 = 18\n",
      "3 x 7 = 21\n",
      "The entered numbers are 2 and 6.\n",
      "2 x 0 = 0 , 6 x 0 = 0\n",
      "2 x 1 = 2 , 6 x 1 = 6\n",
      "2 x 2 = 4 , 6 x 2 = 12\n",
      "2 x 3 = 6 , 6 x 3 = 18\n",
      "2 x 4 = 8 , 6 x 4 = 24\n",
      "2 x 5 = 10 , 6 x 5 = 30\n",
      "2 x 6 = 12 , 6 x 6 = 36\n",
      "2 x 7 = 14 , 6 x 7 = 42\n",
      "2 x 8 = 16 , 6 x 8 = 48\n",
      "2 x 9 = 18 , 6 x 9 = 54\n",
      "2 x 10 = 20 , 6 x 10 = 60\n"
     ]
    }
   ],
   "source": [
    "number = int(input('Enter a number:'))\n",
    "r= int(input(\"Enter the range:\"))\n",
    "print(f'The entered the number is {number}.')\n",
    "i = 1\n",
    "while i<=r:\n",
    "    print(('%d x %d = %d' %(number, i, number*i)))\n",
    "    i+=1\n",
    "\n",
    "number1 = int(input('Enter a number:'))\n",
    "number2 = int(input('Enter a number:'))\n",
    "print(f'The entered numbers are {number1} and {number2}.')\n",
    "\n",
    "i = 0\n",
    "while i<=10:\n",
    "    print(('%d x %d = %d' %(number1, i, number1*i)), ',', ('%d x %d = %d' %(number2, i, number2*i )))\n",
    "    i+=1    "
   ]
  }
 ],
 "metadata": {
  "kernelspec": {
   "display_name": "Python 3",
   "language": "python",
   "name": "python3"
  },
  "language_info": {
   "codemirror_mode": {
    "name": "ipython",
    "version": 3
   },
   "file_extension": ".py",
   "mimetype": "text/x-python",
   "name": "python",
   "nbconvert_exporter": "python",
   "pygments_lexer": "ipython3",
   "version": "3.12.5"
  }
 },
 "nbformat": 4,
 "nbformat_minor": 2
}
