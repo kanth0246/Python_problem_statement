{
 "cells": [
  {
   "cell_type": "code",
   "execution_count": 10,
   "metadata": {},
   "outputs": [
    {
     "name": "stdout",
     "output_type": "stream",
     "text": [
      "2\n",
      "Your Guess is too low\n",
      "Number of attempts made:  1\n",
      "3\n",
      "Your Guess is too low\n",
      "Number of attempts made:  2\n",
      "5\n",
      "Your Guess is too low\n",
      "Number of attempts made:  3\n",
      "12\n",
      "Your Guess is too low\n",
      "Number of attempts made:  4\n",
      "23\n",
      "Your Guess is too low\n",
      "Number of attempts made:  5\n",
      "34\n",
      "Your Guess is too low\n",
      "Number of attempts made:  6\n",
      "36\n",
      "Your Guess is too low\n",
      "Number of attempts made:  7\n",
      "56\n",
      "Your Guess is too low\n",
      "Number of attempts made:  8\n",
      "77\n",
      "Your Guess is too low\n",
      "Number of attempts made:  9\n",
      "79\n",
      "Your Guess is too low\n",
      "Number of attempts made:  10\n",
      "89\n",
      "Your Guess is too high\n",
      "Number of attempts made:  11\n",
      "You have failed in guessing the number.\n",
      "The correct number is:  85\n",
      "Your score is:  0\n"
     ]
    }
   ],
   "source": [
    "import random\n",
    "\n",
    "score=0\n",
    "\n",
    "x= random.randint(1,100)\n",
    "    #print(x)\n",
    "count=0\n",
    "i=1\n",
    "\n",
    "while i<=11:\n",
    "          i=i+1\n",
    "          Guess= int(input(\"Guess a number: \"))    \n",
    "          print(Guess)\n",
    "          if Guess>x:\n",
    "             print(\"Your Guess is too high\")\n",
    "             count= count+1   \n",
    "          elif Guess<x:\n",
    "               print(\"Your Guess is too low\")   \n",
    "               count=count+1\n",
    "          else: \n",
    "               print(\"Congractulations!, Your Guess is correct:\", Guess)\n",
    "               count=count+1\n",
    "               score=score+1\n",
    "               print(\"Your score is: \", score)\n",
    "               break\n",
    "          print(\"Number of attempts made: \", count)\n",
    "          \n",
    "          if count==11:\n",
    "             print(\"You have failed in guessing the number.\")\n",
    "             print(\"The correct number is: \",x)\n",
    "             print(\"Your score is: \", score)\n",
    "             \n",
    "          \n",
    "\n",
    "\n",
    "\n",
    "\n",
    "\n",
    "\n"
   ]
  }
 ],
 "metadata": {
  "kernelspec": {
   "display_name": "Python 3",
   "language": "python",
   "name": "python3"
  },
  "language_info": {
   "codemirror_mode": {
    "name": "ipython",
    "version": 3
   },
   "file_extension": ".py",
   "mimetype": "text/x-python",
   "name": "python",
   "nbconvert_exporter": "python",
   "pygments_lexer": "ipython3",
   "version": "3.12.5"
  }
 },
 "nbformat": 4,
 "nbformat_minor": 2
}
