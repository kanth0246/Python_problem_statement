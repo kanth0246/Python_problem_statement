{
 "cells": [
  {
   "cell_type": "code",
   "execution_count": 1,
   "metadata": {},
   "outputs": [
    {
     "name": "stdout",
     "output_type": "stream",
     "text": [
      "Your Percentage score is: 56.78\n",
      "Your Grade is:  F\n",
      "Your Scores are:  [45, 45, 45, 67, 67]\n",
      "Your Average score is: 53.8\n",
      "Your Grade is:  F\n"
     ]
    }
   ],
   "source": [
    "# Grade Calculator\n",
    "Percentage= float(input(\"Enter the score in percentage, eg (85.5): \"))\n",
    "print(\"Your Percentage score is:\", Percentage)\n",
    "def Grade(Percentage):\n",
    "    if Percentage>=90.00 and Percentage<=100.0:\n",
    "       print(\"Your Grade is : \",\"A\")\n",
    "    elif Percentage>=80.00 and Percentage<=89.99:\n",
    "        print(\"Your Grade is: \",\"B\")\n",
    "    elif Percentage>=70.00 and Percentage<=79.99:\n",
    "        print(\"Your Grade is: \",\"C\")\n",
    "    elif Percentage>=60.00 and Percentage<=69.99:\n",
    "        print(\"Your Grade is: \",\"D\")\n",
    "    else: print(\"Your Grade is: \", \"F\") \n",
    "    return\n",
    "Grade(Percentage)  \n",
    "\n",
    "#Multiple Scores\n",
    "scr1= int(input(\"Enter score1:\"))  \n",
    "scr2= int(input(\"Enter score2:\"))  \n",
    "scr3= int(input(\"Enter score3:\"))  \n",
    "scr4= int(input(\"Enter score4:\"))  \n",
    "scr5= int(input(\"Enter score5:\"))  \n",
    "scr6= int(input(\"Enter score6:\"))  \n",
    "nlis= [scr1, scr2, scr3, scr5, scr6]\n",
    "\n",
    "print(\"Your Scores are: \",nlis)\n",
    "len(nlis)\n",
    "sum= sum(nlis)\n",
    "def Scores(nlis):\n",
    "   \n",
    "    avg= sum/len(nlis)\n",
    "    return avg\n",
    "print(\"Your Average score is:\", Scores(nlis))\n",
    "Scores(nlis)==Percentage\n",
    "Grade(Percentage)\n",
    "\n",
    "    \n",
    "    \n"
   ]
  },
  {
   "cell_type": "code",
   "execution_count": null,
   "metadata": {},
   "outputs": [],
   "source": []
  }
 ],
 "metadata": {
  "kernelspec": {
   "display_name": "Python 3",
   "language": "python",
   "name": "python3"
  },
  "language_info": {
   "codemirror_mode": {
    "name": "ipython",
    "version": 3
   },
   "file_extension": ".py",
   "mimetype": "text/x-python",
   "name": "python",
   "nbconvert_exporter": "python",
   "pygments_lexer": "ipython3",
   "version": "3.12.5"
  }
 },
 "nbformat": 4,
 "nbformat_minor": 2
}
